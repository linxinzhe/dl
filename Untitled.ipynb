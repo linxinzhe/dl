{
 "cells": [
  {
   "cell_type": "code",
   "execution_count": 1,
   "metadata": {
    "collapsed": false
   },
   "outputs": [
    {
     "name": "stdout",
     "output_type": "stream",
     "text": [
      "Extracting ./data/mnist/train-images-idx3-ubyte.gz\n",
      "Extracting ./data/mnist/train-labels-idx1-ubyte.gz\n",
      "Extracting ./data/mnist/t10k-images-idx3-ubyte.gz\n",
      "Extracting ./data/mnist/t10k-labels-idx1-ubyte.gz\n"
     ]
    }
   ],
   "source": [
    "from tensorflow.examples.tutorials.mnist import input_data\n",
    "mnist = input_data.read_data_sets(\"./data/mnist/\", one_hot=True)"
   ]
  },
  {
   "cell_type": "code",
   "execution_count": 2,
   "metadata": {
    "collapsed": false
   },
   "outputs": [],
   "source": [
    "import tensorflow as tf"
   ]
  },
  {
   "cell_type": "code",
   "execution_count": 3,
   "metadata": {
    "collapsed": false
   },
   "outputs": [],
   "source": [
    "tf.reset_default_graph()\n",
    "\n",
    "features=tf.placeholder(tf.float32,[None,784],name=\"features\")\n",
    "labels=tf.placeholder(tf.float32,[None,10],name=\"labels\")\n",
    "keep_prob=tf.placeholder(tf.float32,name=\"keep_prob\")\n",
    "\n",
    "def conv_layer(x,filters,name):\n",
    "    conv=tf.layers.conv2d(x,filters,1,1,\"same\",name=name)\n",
    "    max_pool=tf.layers.max_pooling2d(conv,2,2,\"same\",name=name)\n",
    "    return max_pool\n",
    "\n",
    "reshaped_features=tf.reshape(features, [-1, 28,28,1])\n",
    "conv1=conv_layer(reshaped_features,32,\"conv1\")\n",
    "conv2=conv_layer(conv1,64,\"conv2\")\n",
    "\n",
    "flatten=tf.reshape(conv2, [-1, 7*7*64])\n",
    "\n",
    "fc1=tf.layers.dense(flatten,1024,activation=tf.nn.relu,name=\"fc1\")\n",
    "fc1=tf.layers.dropout(fc1,keep_prob,name=\"fc1_dropout\")\n",
    "\n",
    "fc2=tf.layers.dense(fc1,10, activation=None,name=\"fc2\")\n",
    "\n",
    "cost=tf.reduce_mean(tf.nn.softmax_cross_entropy_with_logits(labels=labels,logits=fc2),name=\"cost\")\n",
    "\n",
    "accuracy=tf.reduce_mean(tf.cast(tf.equal(tf.argmax(tf.nn.softmax(fc2),1), tf.argmax(labels,1)),tf.float32),name=\"accuracy\")\n",
    "\n",
    "optimizer=tf.train.AdamOptimizer(1e-4).minimize(cost)"
   ]
  },
  {
   "cell_type": "code",
   "execution_count": 7,
   "metadata": {
    "collapsed": false
   },
   "outputs": [
    {
     "name": "stdout",
     "output_type": "stream",
     "text": [
      "batch_features:(50, 784), batch_labels: (50, 10)\n",
      "step 0, training accuracy 0.10000000149011612, valid accuracy [0.081799999]\n",
      "batch_features:(50, 784), batch_labels: (50, 10)\n",
      "step 0, training accuracy 0.05999999865889549, valid accuracy [0.1014]\n",
      "batch_features:(50, 784), batch_labels: (50, 10)\n",
      "step 0, training accuracy 0.11999999731779099, valid accuracy [0.17640001]\n",
      "batch_features:(50, 784), batch_labels: (50, 10)\n",
      "step 0, training accuracy 0.3799999952316284, valid accuracy [0.27900001]\n",
      "batch_features:(50, 784), batch_labels: (50, 10)\n",
      "step 0, training accuracy 0.20000000298023224, valid accuracy [0.34040001]\n",
      "batch_features:(50, 784), batch_labels: (50, 10)\n",
      "step 0, training accuracy 0.4399999976158142, valid accuracy [0.36039999]\n",
      "batch_features:(50, 784), batch_labels: (50, 10)\n",
      "step 0, training accuracy 0.30000001192092896, valid accuracy [0.3716]\n",
      "batch_features:(50, 784), batch_labels: (50, 10)\n",
      "step 0, training accuracy 0.25999999046325684, valid accuracy [0.3876]\n",
      "batch_features:(50, 784), batch_labels: (50, 10)\n",
      "step 0, training accuracy 0.20000000298023224, valid accuracy [0.39840001]\n",
      "batch_features:(50, 784), batch_labels: (50, 10)\n",
      "step 0, training accuracy 0.41999998688697815, valid accuracy [0.40779999]\n",
      "batch_features:(50, 784), batch_labels: (50, 10)\n",
      "step 0, training accuracy 0.4000000059604645, valid accuracy [0.421]\n",
      "batch_features:(50, 784), batch_labels: (50, 10)\n",
      "step 0, training accuracy 0.5400000214576721, valid accuracy [0.442]\n",
      "batch_features:(50, 784), batch_labels: (50, 10)\n",
      "step 0, training accuracy 0.5199999809265137, valid accuracy [0.45300001]\n",
      "batch_features:(50, 784), batch_labels: (50, 10)\n",
      "step 0, training accuracy 0.47999998927116394, valid accuracy [0.4702]\n",
      "batch_features:(50, 784), batch_labels: (50, 10)\n",
      "step 0, training accuracy 0.5199999809265137, valid accuracy [0.486]\n",
      "batch_features:(50, 784), batch_labels: (50, 10)\n",
      "step 0, training accuracy 0.5600000023841858, valid accuracy [0.50019997]\n",
      "batch_features:(50, 784), batch_labels: (50, 10)\n",
      "step 0, training accuracy 0.3799999952316284, valid accuracy [0.51639998]\n",
      "batch_features:(50, 784), batch_labels: (50, 10)\n",
      "step 0, training accuracy 0.36000001430511475, valid accuracy [0.537]\n",
      "batch_features:(50, 784), batch_labels: (50, 10)\n",
      "step 0, training accuracy 0.4399999976158142, valid accuracy [0.55760002]\n",
      "batch_features:(50, 784), batch_labels: (50, 10)\n",
      "step 0, training accuracy 0.47999998927116394, valid accuracy [0.57239997]\n",
      "batch_features:(50, 784), batch_labels: (50, 10)\n",
      "step 0, training accuracy 0.5400000214576721, valid accuracy [0.58420002]\n",
      "batch_features:(50, 784), batch_labels: (50, 10)\n",
      "step 0, training accuracy 0.6000000238418579, valid accuracy [0.58939999]\n",
      "batch_features:(50, 784), batch_labels: (50, 10)\n",
      "step 0, training accuracy 0.5799999833106995, valid accuracy [0.5984]\n",
      "batch_features:(50, 784), batch_labels: (50, 10)\n",
      "step 0, training accuracy 0.5400000214576721, valid accuracy [0.60759997]\n",
      "batch_features:(50, 784), batch_labels: (50, 10)\n",
      "step 0, training accuracy 0.699999988079071, valid accuracy [0.62300003]\n",
      "batch_features:(50, 784), batch_labels: (50, 10)\n",
      "step 0, training accuracy 0.5400000214576721, valid accuracy [0.63340002]\n",
      "batch_features:(50, 784), batch_labels: (50, 10)\n",
      "step 0, training accuracy 0.7200000286102295, valid accuracy [0.64139998]\n",
      "batch_features:(50, 784), batch_labels: (50, 10)\n"
     ]
    },
    {
     "ename": "KeyboardInterrupt",
     "evalue": "",
     "traceback": [
      "\u001b[0;31m---------------------------------------------------------------------------\u001b[0m",
      "\u001b[0;31mKeyboardInterrupt\u001b[0m                         Traceback (most recent call last)",
      "\u001b[0;32m<ipython-input-7-3249ba83a9e9>\u001b[0m in \u001b[0;36m<module>\u001b[0;34m()\u001b[0m\n\u001b[1;32m     15\u001b[0m             \u001b[0mfeatures\u001b[0m\u001b[0;34m:\u001b[0m\u001b[0mbatch_features\u001b[0m\u001b[0;34m,\u001b[0m\u001b[0;34m\u001b[0m\u001b[0m\n\u001b[1;32m     16\u001b[0m             \u001b[0mlabels\u001b[0m\u001b[0;34m:\u001b[0m\u001b[0mbatch_labels\u001b[0m\u001b[0;34m,\u001b[0m\u001b[0;34m\u001b[0m\u001b[0m\n\u001b[0;32m---> 17\u001b[0;31m             keep_prob:keep_prob_value})\n\u001b[0m\u001b[1;32m     18\u001b[0m \u001b[0;34m\u001b[0m\u001b[0m\n\u001b[1;32m     19\u001b[0m         \u001b[0;32mif\u001b[0m \u001b[0mi\u001b[0m\u001b[0;34m%\u001b[0m\u001b[0;36m500\u001b[0m \u001b[0;34m==\u001b[0m \u001b[0;36m0\u001b[0m\u001b[0;34m:\u001b[0m\u001b[0;34m\u001b[0m\u001b[0m\n",
      "\u001b[0;32m/Users/linxinzhe/anaconda/envs/tensorflow/lib/python3.5/site-packages/tensorflow/python/client/session.py\u001b[0m in \u001b[0;36mrun\u001b[0;34m(self, fetches, feed_dict, options, run_metadata)\u001b[0m\n\u001b[1;32m    765\u001b[0m     \u001b[0;32mtry\u001b[0m\u001b[0;34m:\u001b[0m\u001b[0;34m\u001b[0m\u001b[0m\n\u001b[1;32m    766\u001b[0m       result = self._run(None, fetches, feed_dict, options_ptr,\n\u001b[0;32m--> 767\u001b[0;31m                          run_metadata_ptr)\n\u001b[0m\u001b[1;32m    768\u001b[0m       \u001b[0;32mif\u001b[0m \u001b[0mrun_metadata\u001b[0m\u001b[0;34m:\u001b[0m\u001b[0;34m\u001b[0m\u001b[0m\n\u001b[1;32m    769\u001b[0m         \u001b[0mproto_data\u001b[0m \u001b[0;34m=\u001b[0m \u001b[0mtf_session\u001b[0m\u001b[0;34m.\u001b[0m\u001b[0mTF_GetBuffer\u001b[0m\u001b[0;34m(\u001b[0m\u001b[0mrun_metadata_ptr\u001b[0m\u001b[0;34m)\u001b[0m\u001b[0;34m\u001b[0m\u001b[0m\n",
      "\u001b[0;32m/Users/linxinzhe/anaconda/envs/tensorflow/lib/python3.5/site-packages/tensorflow/python/client/session.py\u001b[0m in \u001b[0;36m_run\u001b[0;34m(self, handle, fetches, feed_dict, options, run_metadata)\u001b[0m\n\u001b[1;32m    963\u001b[0m     \u001b[0;32mif\u001b[0m \u001b[0mfinal_fetches\u001b[0m \u001b[0;32mor\u001b[0m \u001b[0mfinal_targets\u001b[0m\u001b[0;34m:\u001b[0m\u001b[0;34m\u001b[0m\u001b[0m\n\u001b[1;32m    964\u001b[0m       results = self._do_run(handle, final_targets, final_fetches,\n\u001b[0;32m--> 965\u001b[0;31m                              feed_dict_string, options, run_metadata)\n\u001b[0m\u001b[1;32m    966\u001b[0m     \u001b[0;32melse\u001b[0m\u001b[0;34m:\u001b[0m\u001b[0;34m\u001b[0m\u001b[0m\n\u001b[1;32m    967\u001b[0m       \u001b[0mresults\u001b[0m \u001b[0;34m=\u001b[0m \u001b[0;34m[\u001b[0m\u001b[0;34m]\u001b[0m\u001b[0;34m\u001b[0m\u001b[0m\n",
      "\u001b[0;32m/Users/linxinzhe/anaconda/envs/tensorflow/lib/python3.5/site-packages/tensorflow/python/client/session.py\u001b[0m in \u001b[0;36m_do_run\u001b[0;34m(self, handle, target_list, fetch_list, feed_dict, options, run_metadata)\u001b[0m\n\u001b[1;32m   1013\u001b[0m     \u001b[0;32mif\u001b[0m \u001b[0mhandle\u001b[0m \u001b[0;32mis\u001b[0m \u001b[0;32mNone\u001b[0m\u001b[0;34m:\u001b[0m\u001b[0;34m\u001b[0m\u001b[0m\n\u001b[1;32m   1014\u001b[0m       return self._do_call(_run_fn, self._session, feed_dict, fetch_list,\n\u001b[0;32m-> 1015\u001b[0;31m                            target_list, options, run_metadata)\n\u001b[0m\u001b[1;32m   1016\u001b[0m     \u001b[0;32melse\u001b[0m\u001b[0;34m:\u001b[0m\u001b[0;34m\u001b[0m\u001b[0m\n\u001b[1;32m   1017\u001b[0m       return self._do_call(_prun_fn, self._session, handle, feed_dict,\n",
      "\u001b[0;32m/Users/linxinzhe/anaconda/envs/tensorflow/lib/python3.5/site-packages/tensorflow/python/client/session.py\u001b[0m in \u001b[0;36m_do_call\u001b[0;34m(self, fn, *args)\u001b[0m\n\u001b[1;32m   1020\u001b[0m   \u001b[0;32mdef\u001b[0m \u001b[0m_do_call\u001b[0m\u001b[0;34m(\u001b[0m\u001b[0mself\u001b[0m\u001b[0;34m,\u001b[0m \u001b[0mfn\u001b[0m\u001b[0;34m,\u001b[0m \u001b[0;34m*\u001b[0m\u001b[0margs\u001b[0m\u001b[0;34m)\u001b[0m\u001b[0;34m:\u001b[0m\u001b[0;34m\u001b[0m\u001b[0m\n\u001b[1;32m   1021\u001b[0m     \u001b[0;32mtry\u001b[0m\u001b[0;34m:\u001b[0m\u001b[0;34m\u001b[0m\u001b[0m\n\u001b[0;32m-> 1022\u001b[0;31m       \u001b[0;32mreturn\u001b[0m \u001b[0mfn\u001b[0m\u001b[0;34m(\u001b[0m\u001b[0;34m*\u001b[0m\u001b[0margs\u001b[0m\u001b[0;34m)\u001b[0m\u001b[0;34m\u001b[0m\u001b[0m\n\u001b[0m\u001b[1;32m   1023\u001b[0m     \u001b[0;32mexcept\u001b[0m \u001b[0merrors\u001b[0m\u001b[0;34m.\u001b[0m\u001b[0mOpError\u001b[0m \u001b[0;32mas\u001b[0m \u001b[0me\u001b[0m\u001b[0;34m:\u001b[0m\u001b[0;34m\u001b[0m\u001b[0m\n\u001b[1;32m   1024\u001b[0m       \u001b[0mmessage\u001b[0m \u001b[0;34m=\u001b[0m \u001b[0mcompat\u001b[0m\u001b[0;34m.\u001b[0m\u001b[0mas_text\u001b[0m\u001b[0;34m(\u001b[0m\u001b[0me\u001b[0m\u001b[0;34m.\u001b[0m\u001b[0mmessage\u001b[0m\u001b[0;34m)\u001b[0m\u001b[0;34m\u001b[0m\u001b[0m\n",
      "\u001b[0;32m/Users/linxinzhe/anaconda/envs/tensorflow/lib/python3.5/site-packages/tensorflow/python/client/session.py\u001b[0m in \u001b[0;36m_run_fn\u001b[0;34m(session, feed_dict, fetch_list, target_list, options, run_metadata)\u001b[0m\n\u001b[1;32m   1002\u001b[0m         return tf_session.TF_Run(session, options,\n\u001b[1;32m   1003\u001b[0m                                  \u001b[0mfeed_dict\u001b[0m\u001b[0;34m,\u001b[0m \u001b[0mfetch_list\u001b[0m\u001b[0;34m,\u001b[0m \u001b[0mtarget_list\u001b[0m\u001b[0;34m,\u001b[0m\u001b[0;34m\u001b[0m\u001b[0m\n\u001b[0;32m-> 1004\u001b[0;31m                                  status, run_metadata)\n\u001b[0m\u001b[1;32m   1005\u001b[0m \u001b[0;34m\u001b[0m\u001b[0m\n\u001b[1;32m   1006\u001b[0m     \u001b[0;32mdef\u001b[0m \u001b[0m_prun_fn\u001b[0m\u001b[0;34m(\u001b[0m\u001b[0msession\u001b[0m\u001b[0;34m,\u001b[0m \u001b[0mhandle\u001b[0m\u001b[0;34m,\u001b[0m \u001b[0mfeed_dict\u001b[0m\u001b[0;34m,\u001b[0m \u001b[0mfetch_list\u001b[0m\u001b[0;34m)\u001b[0m\u001b[0;34m:\u001b[0m\u001b[0;34m\u001b[0m\u001b[0m\n",
      "\u001b[0;31mKeyboardInterrupt\u001b[0m: "
     ],
     "output_type": "error"
    }
   ],
   "source": [
    "keep_prob_value=0.5\n",
    "epochs=20000\n",
    "batch_size=50\n",
    "\n",
    "init=tf.global_variables_initializer()\n",
    "with tf.Session() as sess:\n",
    "    sess.run(init)\n",
    "    i=0\n",
    "    for epoch in range(epochs):\n",
    "        batch_features,batch_labels=mnist.train.next_batch(batch_size)\n",
    "        \n",
    "        print(\"batch_features:{}, batch_labels: {}\".format(batch_features.shape,batch_labels.shape))\n",
    "        \n",
    "        _,train_accu=sess.run([optimizer,accuracy],feed_dict={\n",
    "            features:batch_features,\n",
    "            labels:batch_labels,\n",
    "            keep_prob:keep_prob_value})\n",
    "        \n",
    "        if i%500 == 0:\n",
    "            valid_accu=sess.run([accuracy],feed_dict={features:mnist.validation.images,\n",
    "                                                          labels:mnist.validation.labels,\n",
    "                                                          keep_prob:1.0})\n",
    "            \n",
    "            print(\"step {}, training accuracy {}, valid accuracy {}\".format(i, train_accu,valid_accu))\n",
    "    \n",
    "    test_accu=sess.run([accuracy],feed_dict={features:mnist.test.images,\n",
    "                                                   labels:mnist.test.labels,\n",
    "                                                   keep_prob:1.0})\n",
    "    print(\"test accuracy {}\"%(test_accu))"
   ]
  },
  {
   "cell_type": "code",
   "execution_count": null,
   "metadata": {
    "collapsed": true
   },
   "outputs": [],
   "source": [
    ""
   ]
  }
 ],
 "metadata": {
  "kernelspec": {
   "display_name": "Python 3",
   "language": "python",
   "name": "python3"
  },
  "language_info": {
   "codemirror_mode": {
    "name": "ipython",
    "version": 3.0
   },
   "file_extension": ".py",
   "mimetype": "text/x-python",
   "name": "python",
   "nbconvert_exporter": "python",
   "pygments_lexer": "ipython3",
   "version": "3.5.3"
  }
 },
 "nbformat": 4,
 "nbformat_minor": 0
}